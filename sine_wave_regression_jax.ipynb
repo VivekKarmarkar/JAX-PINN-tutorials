{
 "cells": [
  {
   "cell_type": "markdown",
   "id": "67c8c0a5-8ff8-4bc0-96f9-f3292caa4de8",
   "metadata": {},
   "source": [
    "## Import packages"
   ]
  },
  {
   "cell_type": "code",
   "execution_count": 1,
   "id": "4b67e874-9005-42eb-8aa8-4932690a00e9",
   "metadata": {},
   "outputs": [],
   "source": [
    "import jax\n",
    "import jax.numpy as jnp\n",
    "import matplotlib.pyplot as plt"
   ]
  },
  {
   "cell_type": "markdown",
   "id": "dfbef292-79b7-496a-aeec-a00f284bdf8c",
   "metadata": {},
   "source": [
    "## Samples and hyperparameters"
   ]
  },
  {
   "cell_type": "code",
   "execution_count": 2,
   "id": "ca63b632-6584-4251-8d74-40f616c6f1b8",
   "metadata": {},
   "outputs": [],
   "source": [
    "n_samples = 200\n",
    "learning_rate = 0.1\n",
    "n_epochs = 30000"
   ]
  },
  {
   "cell_type": "markdown",
   "id": "2da8c4b3-f564-48e4-b6c6-0aa2f1f898e1",
   "metadata": {},
   "source": [
    "## Set up network layers \"arbitrarily\""
   ]
  },
  {
   "cell_type": "code",
   "execution_count": 3,
   "id": "6d15cd1f-e1e9-4ed7-87b7-20eaa61abc1d",
   "metadata": {},
   "outputs": [],
   "source": [
    "input_neurons = 1\n",
    "output_neurons = 1\n",
    "hidden_neurons = 10\n",
    "hidden_layers = 3\n",
    "layers = [input_neurons] + hidden_layers*[hidden_neurons] + [output_neurons]"
   ]
  },
  {
   "cell_type": "markdown",
   "id": "c085a790-eb47-490c-910e-1d0bbdf394d3",
   "metadata": {},
   "source": [
    "## View layers"
   ]
  },
  {
   "cell_type": "code",
   "execution_count": 4,
   "id": "663f3b2a-4c5e-4b33-843e-63a8e0b79b45",
   "metadata": {},
   "outputs": [
    {
     "data": {
      "text/plain": [
       "[1, 10, 10, 10, 1]"
      ]
     },
     "execution_count": 4,
     "metadata": {},
     "output_type": "execute_result"
    }
   ],
   "source": [
    "layers"
   ]
  },
  {
   "cell_type": "markdown",
   "id": "f0782c9f-9a62-4b61-9db2-cc2a9cf0bbf9",
   "metadata": {},
   "source": [
    "## What do the layers tell us about the shape of the input array?"
   ]
  },
  {
   "cell_type": "markdown",
   "id": "ab7ff215-dcfd-4941-a038-01639bf0e1ec",
   "metadata": {},
   "source": [
    "$$ z_{L} = \\sigma(a_{L-1}W_{L} + b) $$\n",
    "$$ \\implies dim(col(a_{L-1})) = dim(row(W_{L})) $$\n",
    "$$ \\implies dim(col(a_{0})) = dim(row(W_{1})) $$\n",
    "$$ \\implies \\text{number of columns in input array} = \\text{number of input neurons} = 1 $$\n",
    "$$ \\implies \\text{input is a column vector} $$"
   ]
  },
  {
   "cell_type": "markdown",
   "id": "0c7af9c8-5dfb-402a-98ff-84110aa14135",
   "metadata": {},
   "source": [
    "## Generate data as column vectors"
   ]
  },
  {
   "cell_type": "code",
   "execution_count": 5,
   "id": "08db8c23-0bdd-4fb7-9d3d-26b8d1119688",
   "metadata": {},
   "outputs": [],
   "source": [
    "x_samples = jnp.linspace(0, 2*jnp.pi).reshape(-1, 1)\n",
    "y_samples = jnp.sin(x_samples)"
   ]
  },
  {
   "cell_type": "markdown",
   "id": "6d73440e-6f42-42da-8263-480f3a311212",
   "metadata": {},
   "source": [
    "## View shape to check that column vectors have been created"
   ]
  },
  {
   "cell_type": "code",
   "execution_count": 6,
   "id": "66eef5bd-c62c-4411-962b-e51828e294ea",
   "metadata": {},
   "outputs": [
    {
     "data": {
      "text/plain": [
       "(50, 1)"
      ]
     },
     "execution_count": 6,
     "metadata": {},
     "output_type": "execute_result"
    }
   ],
   "source": [
    "x_samples.shape"
   ]
  },
  {
   "cell_type": "markdown",
   "id": "19c5ce06-aa7b-496d-99a1-e53af65c609b",
   "metadata": {},
   "source": [
    "## Plot data"
   ]
  },
  {
   "cell_type": "code",
   "execution_count": 7,
   "id": "908d0e16-afe3-4f3f-b22c-5b2de1f0728d",
   "metadata": {},
   "outputs": [
    {
     "data": {
      "text/plain": [
       "<matplotlib.collections.PathCollection at 0x26804200350>"
      ]
     },
     "execution_count": 7,
     "metadata": {},
     "output_type": "execute_result"
    },
    {
     "data": {
      "image/png": "[encoded data removed]",
      "text/plain": [
       "<Figure size 640x480 with 1 Axes>"
      ]
     },
     "metadata": {},
     "output_type": "display_data"
    }
   ],
   "source": [
    "plt.scatter(x_samples, y_samples)"
   ]
  },
  {
   "cell_type": "markdown",
   "id": "0082482f-f4fb-41d1-8e27-7974469019e1",
   "metadata": {},
   "source": [
    "## The basics of \"zip\" in Python"
   ]
  },
  {
   "cell_type": "code",
   "execution_count": 8,
   "id": "34d32810-d5a1-424a-aac5-d296a956aa82",
   "metadata": {},
   "outputs": [],
   "source": [
    "list_1 = [1, 2, 3]\n",
    "list_2 = ['a', 'b', 'c']\n",
    "zipped = zip(list_1, list_2)"
   ]
  },
  {
   "cell_type": "code",
   "execution_count": 9,
   "id": "7a07b3eb-e737-45ae-87e7-278fdaf22633",
   "metadata": {},
   "outputs": [
    {
     "data": {
      "text/plain": [
       "<zip at 0x268041872c0>"
      ]
     },
     "execution_count": 9,
     "metadata": {},
     "output_type": "execute_result"
    }
   ],
   "source": [
    "zipped"
   ]
  },
  {
   "cell_type": "code",
   "execution_count": 10,
   "id": "db537b97-13fe-4c73-b791-f34e00f64f69",
   "metadata": {},
   "outputs": [
    {
     "data": {
      "text/plain": [
       "zip"
      ]
     },
     "execution_count": 10,
     "metadata": {},
     "output_type": "execute_result"
    }
   ],
   "source": [
    "type(zipped)"
   ]
  },
  {
   "cell_type": "code",
   "execution_count": 11,
   "id": "c13dcf1d-b278-4e81-9038-06f65fc80b0f",
   "metadata": {},
   "outputs": [],
   "source": [
    "list_zipped = list(zipped)"
   ]
  },
  {
   "cell_type": "code",
   "execution_count": 12,
   "id": "4ac3811e-5a78-411a-b9ec-8e903d9fc045",
   "metadata": {},
   "outputs": [
    {
     "data": {
      "text/plain": [
       "[(1, 'a'), (2, 'b'), (3, 'c')]"
      ]
     },
     "execution_count": 12,
     "metadata": {},
     "output_type": "execute_result"
    }
   ],
   "source": [
    "list_zipped"
   ]
  },
  {
   "cell_type": "markdown",
   "id": "f9731a5e-df47-4988-9ae9-3ff188148082",
   "metadata": {},
   "source": [
    "1. zip in Python returns an iterator of tuples\n",
    "2. in the example above, we iterate over two lists, collect the corresponding elements, pack them into a tuple, store them in the iterator\n",
    "3. we convert to list to view the result"
   ]
  },
  {
   "cell_type": "markdown",
   "id": "340a316b-d0e3-4a9e-a5a7-3c1143ccad7a",
   "metadata": {},
   "source": [
    "## The basics of the \"lambda\" function in Python"
   ]
  },
  {
   "cell_type": "code",
   "execution_count": 13,
   "id": "f8f2a0c2-46b9-45f8-8d56-69eb94f567c6",
   "metadata": {},
   "outputs": [
    {
     "name": "stdout",
     "output_type": "stream",
     "text": [
      "25\n"
     ]
    }
   ],
   "source": [
    "trial_num = 5\n",
    "squared_num = lambda y:jnp.square(y)\n",
    "print(squared_num(trial_num))"
   ]
  },
  {
   "cell_type": "markdown",
   "id": "26d9c06f-0c3e-44ab-8864-5b1202727f34",
   "metadata": {},
   "source": [
    "1. the \"lambda\" function is an anonymous function in Python\n",
    "2. anonymous functions are \"one-liners\" that are not defined using the keyword \"def\"\n",
    "3. anonymous functions are defined using the keyword \"lambda\" and are of the form \"lambda argument: expression\""
   ]
  },
  {
   "cell_type": "markdown",
   "id": "b20aecfd-6087-4845-acbb-2cf1dd7e3388",
   "metadata": {},
   "source": [
    "## Function to initialize weights and biases"
   ]
  },
  {
   "cell_type": "code",
   "execution_count": 14,
   "id": "9b8e526a-47bf-4dc4-9a82-86d7a1598856",
   "metadata": {},
   "outputs": [],
   "source": [
    "def weights_and_biases_init(fan_in, fan_out):\n",
    "\n",
    "    key = jax.random.PRNGKey(42)\n",
    "    \n",
    "    kernel_matrix_uniform_limit = jnp.sqrt(6 / (fan_in + fan_out))\n",
    "\n",
    "    key, wkey = jax.random.split(key)\n",
    "\n",
    "    W = jax.random.uniform(\n",
    "        wkey,\n",
    "        (fan_in, fan_out),\n",
    "        minval=-kernel_matrix_uniform_limit,\n",
    "        maxval=+kernel_matrix_uniform_limit\n",
    "    )\n",
    "\n",
    "    b = jnp.zeros(fan_out)\n",
    "    \n",
    "    return W, b"
   ]
  },
  {
   "cell_type": "markdown",
   "id": "94e4c9aa-d100-419e-a1d9-e08ea5e59b1f",
   "metadata": {},
   "source": [
    "## Initialize weights and biases"
   ]
  },
  {
   "cell_type": "code",
   "execution_count": 15,
   "id": "49baade2-379e-4746-aa93-4d0883fed9c2",
   "metadata": {},
   "outputs": [],
   "source": [
    "weight_matrices = []\n",
    "bias_vectors = []\n",
    "activation_functions = []\n",
    "\n",
    "for (dim_in, dim_out) in zip(layers[:-1], layers[1:]):\n",
    "    \n",
    "    W, b = weights_and_biases_init(dim_in, dim_out)\n",
    "\n",
    "    weight_matrices.append(W)\n",
    "    bias_vectors.append(b)\n",
    "    activation_functions.append(jax.nn.sigmoid)\n",
    "\n",
    "activation_functions[-1] = lambda x:x"
   ]
  },
  {
   "cell_type": "markdown",
   "id": "c241e331-8081-4507-9da5-fd6137489d18",
   "metadata": {},
   "source": [
    "## Define forward pass"
   ]
  },
  {
   "cell_type": "code",
   "execution_count": 16,
   "id": "d508e23d-f30c-413f-886e-3c289d596c44",
   "metadata": {},
   "outputs": [],
   "source": [
    "def forward_pass(x, weights, biases, activations):\n",
    "    \n",
    "    feedforward_val = x\n",
    "    \n",
    "    for W, b, f in zip(weights, biases, activations):\n",
    "\n",
    "        feedforward_val = f(jnp.matmul(feedforward_val, W) + b)\n",
    "\n",
    "    return feedforward_val"
   ]
  },
  {
   "cell_type": "markdown",
   "id": "0d8a768a-75a6-41c1-b778-145ec9f632b5",
   "metadata": {},
   "source": [
    "## Generate initial prediction"
   ]
  },
  {
   "cell_type": "code",
   "execution_count": 17,
   "id": "a4cf986d-e14a-4062-8d7b-cc61c60042fd",
   "metadata": {},
   "outputs": [],
   "source": [
    "initial_pred = forward_pass(x_samples, weight_matrices, bias_vectors, activation_functions)"
   ]
  },
  {
   "cell_type": "markdown",
   "id": "1165aab2-c57e-4e69-9ea1-95c8ed02c8d7",
   "metadata": {},
   "source": [
    "## Plot initial prediction and data"
   ]
  },
  {
   "cell_type": "code",
   "execution_count": 18,
   "id": "c2ffdf8a-73fc-4d69-ba36-adc09a34590f",
   "metadata": {},
   "outputs": [
    {
     "data": {
      "text/plain": [
       "Text(0.5, 1.0, 'Sine wave regression in JAX')"
      ]
     },
     "execution_count": 18,
     "metadata": {},
     "output_type": "execute_result"
    },
    {
     "data": {
      "image/png": "[encoded data removed]",
      "text/plain": [
       "<Figure size 640x480 with 1 Axes>"
      ]
     },
     "metadata": {},
     "output_type": "display_data"
    }
   ],
   "source": [
    "plt.figure()\n",
    "plt.scatter(x_samples, y_samples, label=\"Sample data\")\n",
    "plt.plot(x_samples, initial_pred, 'r', label=\"Initial prediction\")\n",
    "plt.legend()\n",
    "plt.xlabel('x')\n",
    "plt.ylabel('y')\n",
    "plt.title('Sine wave regression in JAX')"
   ]
  },
  {
   "cell_type": "markdown",
   "id": "a8cf92c9-d796-43a9-9a74-1fdeeaf2473b",
   "metadata": {},
   "source": [
    "## Define MSE Loss"
   ]
  },
  {
   "cell_type": "code",
   "execution_count": 19,
   "id": "ac7f249f-4eaa-4c5d-8ab4-0453b615fb77",
   "metadata": {},
   "outputs": [],
   "source": [
    "def mse_loss(y_pred, y_true):\n",
    "    delta_val = y_pred - y_true\n",
    "    loss_val = 0.5 * jnp.mean(jnp.square(delta_val))\n",
    "    return loss_val"
   ]
  },
  {
   "cell_type": "markdown",
   "id": "906babba-000d-4577-9608-28f7d6406994",
   "metadata": {},
   "source": [
    "## Compute and print initial MSE loss"
   ]
  },
  {
   "cell_type": "code",
   "execution_count": 20,
   "id": "4054baf4-f9e9-4836-8cb8-037b6160944c",
   "metadata": {},
   "outputs": [
    {
     "name": "stdout",
     "output_type": "stream",
     "text": [
      "0.2482953\n"
     ]
    }
   ],
   "source": [
    "initial_loss = mse_loss(initial_pred, y_samples)\n",
    "print(initial_loss)"
   ]
  },
  {
   "cell_type": "markdown",
   "id": "7919cbb0-15b3-4a03-9280-48a4b6600292",
   "metadata": {},
   "source": [
    "## Autograd machine"
   ]
  },
  {
   "cell_type": "code",
   "execution_count": 21,
   "id": "527aa2c4-bcab-4d98-bd76-7d63232ca26a",
   "metadata": {},
   "outputs": [],
   "source": [
    "loss_and_grad_fun = jax.value_and_grad(\n",
    "    lambda w_current, b_current: mse_loss(\n",
    "        forward_pass(\n",
    "            x_samples,\n",
    "            w_current,\n",
    "            b_current,\n",
    "            activation_functions),\n",
    "        y_samples),\n",
    "    argnums = (0,1)\n",
    ")"
   ]
  },
  {
   "cell_type": "markdown",
   "id": "f1458b30-31d7-43a7-ab19-9e74d9e0f710",
   "metadata": {},
   "source": [
    "1. The value and grad function available in jax provides the value of a function and its gradients with respect to its arguments\n",
    "2. Here the lambda function is used to cleverly define the arguments as the weights and biases meaning that the gradients will be computed with respect to the weights and biases\n",
    "3. The function is the MSE loss\n",
    "4. In summary, this block provides the MSE loss and its gradients with respect to the weights and biases"
   ]
  },
  {
   "cell_type": "markdown",
   "id": "9fb64c7e-8705-49fa-97ac-b24d723b025a",
   "metadata": {},
   "source": [
    "## Query Autograd machine at initial step"
   ]
  },
  {
   "cell_type": "code",
   "execution_count": 22,
   "id": "c146ac3d-51fc-4e49-97d7-7e45af1e7de2",
   "metadata": {},
   "outputs": [],
   "source": [
    "loss_initial, (weight_grad_initial, bias_grad_initial) = loss_and_grad_fun(weight_matrices, bias_vectors)"
   ]
  },
  {
   "cell_type": "code",
   "execution_count": 23,
   "id": "7d7bf757-5626-4ed9-9470-40cf94b0bb2d",
   "metadata": {},
   "outputs": [
    {
     "data": {
      "text/plain": [
       "Array(0.2482953, dtype=float32)"
      ]
     },
     "execution_count": 23,
     "metadata": {},
     "output_type": "execute_result"
    }
   ],
   "source": [
    "loss_initial"
   ]
  },
  {
   "cell_type": "code",
   "execution_count": 24,
   "id": "ea7ae4cf-ed19-4ad3-a57e-2545b90a3b26",
   "metadata": {},
   "outputs": [
    {
     "data": {
      "text/plain": [
       "[Array([[-5.7278521e-04,  2.9604454e-03, -5.8229445e-03,  6.3339151e-03,\n",
       "          7.9946499e-03,  6.2230456e-04, -2.0788228e-03, -7.3708122e-04,\n",
       "          2.4465867e-04,  5.4656710e-05]], dtype=float32),\n",
       " Array([[ 7.82663526e-04, -1.95341907e-03, -1.69083243e-03,\n",
       "         -5.08775644e-04, -4.21083707e-04, -1.40935509e-03,\n",
       "          1.51265727e-03,  1.91738538e-04,  1.14626973e-03,\n",
       "         -1.69089937e-03],\n",
       "        [-6.77422562e-04,  1.31621130e-03,  1.20732107e-03,\n",
       "          3.49893933e-04,  2.65414739e-04,  9.99936019e-04,\n",
       "         -1.13460934e-03, -1.48558232e-04, -7.86996214e-04,\n",
       "          1.28003291e-03],\n",
       "        [ 2.24841089e-04, -7.31522392e-04, -6.02507440e-04,\n",
       "         -1.87226920e-04, -1.65938967e-04, -5.04652387e-04,\n",
       "          5.13616716e-04,  6.29426213e-05,  4.22643992e-04,\n",
       "         -5.68887161e-04],\n",
       "        [-9.71873756e-04,  1.98106770e-03,  1.79559039e-03,\n",
       "          5.24332572e-04,  4.05260187e-04,  1.48892601e-03,\n",
       "         -1.67088269e-03, -2.17415814e-04, -1.17985078e-03,\n",
       "          1.88172853e-03],\n",
       "        [-7.13456422e-04,  1.39782380e-03,  1.27948355e-03,\n",
       "          3.71302944e-04,  2.82595487e-04,  1.05992402e-03,\n",
       "         -1.20035419e-03, -1.56996612e-04, -8.35211249e-04,\n",
       "          1.35379029e-03],\n",
       "        [-7.55147252e-04,  1.49218738e-03,  1.36293273e-03,\n",
       "          3.96057294e-04,  3.02457047e-04,  1.12929428e-03,\n",
       "         -1.27639063e-03, -1.66756901e-04, -8.90961033e-04,\n",
       "          1.43909478e-03],\n",
       "        [-1.76478825e-05, -1.81555573e-04, -1.16363946e-04,\n",
       "         -4.29666507e-05, -5.01125978e-05, -1.00509751e-04,\n",
       "          7.08269727e-05,  6.11922633e-06,  9.77561212e-05,\n",
       "         -7.21665783e-05],\n",
       "        [-1.08465413e-03,  2.23335926e-03,  2.01927335e-03,\n",
       "          5.90571726e-04,  4.58196067e-04,  1.67483580e-03,\n",
       "         -1.87519367e-03, -2.43680406e-04, -1.32901431e-03,\n",
       "          2.11104308e-03],\n",
       "        [-8.39015062e-04,  1.68176449e-03,  1.53063191e-03,\n",
       "          4.45793092e-04,  3.42344749e-04,  1.26869406e-03,\n",
       "         -1.42923323e-03, -1.86379213e-04, -1.00297201e-03,\n",
       "          1.61057559e-03],\n",
       "        [ 7.81253970e-04, -1.94940169e-03, -1.68743753e-03,\n",
       "         -5.07745950e-04, -4.20199969e-04, -1.40653830e-03,\n",
       "          1.50972127e-03,  1.91373430e-04,  1.14393421e-03,\n",
       "         -1.68762787e-03]], dtype=float32),\n",
       " Array([[-2.3174172e-03,  6.0705945e-04, -5.3102395e-04,  1.1215507e-03,\n",
       "          6.0702424e-04,  6.7938858e-04, -2.7692199e-04,  1.4206490e-03,\n",
       "          8.4511051e-04, -2.5954302e-03],\n",
       "        [-3.7115922e-03,  9.8259724e-04, -8.5515861e-04,  1.8089513e-03,\n",
       "          9.7972434e-04,  1.0925999e-03, -4.4603221e-04,  2.2934922e-03,\n",
       "          1.3623006e-03, -4.1706692e-03],\n",
       "        [-3.1774812e-03,  8.7362772e-04, -7.4684876e-04,  1.5884568e-03,\n",
       "          8.6223450e-04,  9.4949116e-04, -3.8975175e-04,  2.0204266e-03,\n",
       "          1.1937510e-03, -3.6135244e-03],\n",
       "        [-4.3158741e-03,  1.0828475e-03, -9.6723536e-04,  2.0301396e-03,\n",
       "          1.0959530e-03,  1.2444868e-03, -5.0409453e-04,  2.5619611e-03,\n",
       "          1.5334680e-03, -4.7704224e-03],\n",
       "        [ 8.5461093e-04, -1.0231366e-04,  1.4053246e-04, -2.6435591e-04,\n",
       "         -1.3581071e-04, -1.9761903e-04,  7.2492046e-05, -3.1038304e-04,\n",
       "         -2.0863164e-04,  7.9594820e-04],\n",
       "        [-3.2392312e-03,  8.5578009e-04, -7.4553303e-04,  1.5765695e-03,\n",
       "          8.5375051e-04,  9.5278292e-04, -3.8883861e-04,  1.9984953e-03,\n",
       "          1.1874263e-03, -3.6375104e-03],\n",
       "        [-1.4562390e-03,  4.3658772e-04, -3.5874924e-04,  7.7243830e-04,\n",
       "          4.2138580e-04,  4.5091368e-04, -1.8744775e-04,  9.8955492e-04,\n",
       "          5.7777978e-04, -1.7040796e-03],\n",
       "        [-3.4920280e-03,  9.1395481e-04, -7.9980178e-04,  1.6890363e-03,\n",
       "          9.1413659e-04,  1.0233927e-03, -4.1708621e-04,  2.1393355e-03,\n",
       "          1.2727941e-03, -3.9099390e-03],\n",
       "        [ 1.2687944e-03, -1.5612828e-04,  2.1055562e-04, -3.9766368e-04,\n",
       "         -2.0470105e-04, -2.9523281e-04,  1.0865431e-04, -4.6824457e-04,\n",
       "         -3.1333248e-04,  1.1873489e-03],\n",
       "        [-1.3482796e-03,  4.0414321e-04, -3.3212639e-04,  7.1508234e-04,\n",
       "          3.9008050e-04,  4.1745396e-04, -1.7353430e-04,  9.1604824e-04,\n",
       "          5.3487695e-04, -1.5776125e-03]], dtype=float32),\n",
       " Array([[0.00785054],\n",
       "        [0.01661246],\n",
       "        [0.02260331],\n",
       "        [0.01860655],\n",
       "        [0.01228444],\n",
       "        [0.02166303],\n",
       "        [0.01349625],\n",
       "        [0.01260614],\n",
       "        [0.01789472],\n",
       "        [0.01002139]], dtype=float32)]"
      ]
     },
     "execution_count": 24,
     "metadata": {},
     "output_type": "execute_result"
    }
   ],
   "source": [
    "weight_grad_initial"
   ]
  },
  {
   "cell_type": "code",
   "execution_count": 25,
   "id": "dc353053-afe5-46a1-a8a2-4ee69ae26a10",
   "metadata": {},
   "outputs": [
    {
     "data": {
      "text/plain": [
       "[Array([-1.2448383e-03, -2.5846006e-05,  6.8150926e-05, -5.3788070e-04,\n",
       "        -8.5937791e-05, -9.3755079e-06, -2.9819203e-05,  1.2608065e-04,\n",
       "        -2.1256245e-05,  1.3015092e-04], dtype=float32),\n",
       " Array([-4.7012069e-04,  6.2442105e-04,  6.3994201e-04,  1.7308979e-04,\n",
       "         1.0784040e-04,  5.2448735e-04, -6.5299729e-04, -8.9723326e-05,\n",
       "        -3.8782414e-04,  7.4704969e-04], dtype=float32),\n",
       " Array([-0.00415516,  0.00116833, -0.00098845,  0.00210902,  0.00114627,\n",
       "         0.00125292, -0.00051599,  0.00268756,  0.001583  , -0.00475961],      dtype=float32),\n",
       " Array([0.03255913], dtype=float32)]"
      ]
     },
     "execution_count": 25,
     "metadata": {},
     "output_type": "execute_result"
    }
   ],
   "source": [
    "bias_grad_initial"
   ]
  },
  {
   "cell_type": "markdown",
   "id": "2d79ae90-0a84-41b7-b21c-dd94bd267b74",
   "metadata": {},
   "source": [
    "## Improve speed by using \"just in time\" (jit) compiler"
   ]
  },
  {
   "cell_type": "code",
   "execution_count": 26,
   "id": "7d521789-486f-48ad-9c26-808a92518eeb",
   "metadata": {},
   "outputs": [],
   "source": [
    "loss_and_grad_fun = jax.jit(loss_and_grad_fun)"
   ]
  },
  {
   "cell_type": "markdown",
   "id": "c2560cb6-6da8-44ed-84c4-329a70444f1e",
   "metadata": {},
   "source": [
    "## Note on \"tree map\" in jax"
   ]
  },
  {
   "cell_type": "markdown",
   "id": "817dfadb-c299-4925-b6f1-68dec9330f5c",
   "metadata": {},
   "source": [
    "1. PyTrees is a collection of arrays that jax understands\n",
    "2. The weights and biases are nothing but such a collection of arrays\n",
    "3. The PyTree line of code creates a new collection of arrays for the weights and biases and \"overwrites\" the old one"
   ]
  },
  {
   "cell_type": "markdown",
   "id": "f48af786-7e81-4552-8401-3a0adec6ea4b",
   "metadata": {},
   "source": [
    "## Note on \"fstring\" in Python"
   ]
  },
  {
   "cell_type": "markdown",
   "id": "98e7c711-ea19-4b28-90c0-838bf9d0e177",
   "metadata": {},
   "source": [
    "fstring in Python stands for \"formatted string\" in Python and is a way to embed expressions into strings"
   ]
  },
  {
   "cell_type": "markdown",
   "id": "106b35c1-f5ca-4f80-aeab-d74286868a30",
   "metadata": {},
   "source": [
    "## Train network via \"vanilla\" gradient descent"
   ]
  },
  {
   "cell_type": "code",
   "execution_count": 27,
   "id": "2916677e-fd03-4643-bfee-2ad2f8185393",
   "metadata": {},
   "outputs": [
    {
     "name": "stdout",
     "output_type": "stream",
     "text": [
      "epoch: 0, loss:0.24829530715942383\n",
      "epoch: 100, loss:0.2446155548095703\n",
      "epoch: 200, loss:0.24147287011146545\n",
      "epoch: 300, loss:0.23771895468235016\n",
      "epoch: 400, loss:0.2324424684047699\n",
      "epoch: 500, loss:0.2243163287639618\n",
      "epoch: 600, loss:0.21149826049804688\n",
      "epoch: 700, loss:0.19194431602954865\n",
      "epoch: 800, loss:0.16540618240833282\n",
      "epoch: 900, loss:0.13712085783481598\n",
      "epoch: 1000, loss:0.11619126051664352\n",
      "epoch: 1100, loss:0.10520493984222412\n",
      "epoch: 1200, loss:0.10010659694671631\n",
      "epoch: 1300, loss:0.09754494577646255\n",
      "epoch: 1400, loss:0.09606106579303741\n",
      "epoch: 1500, loss:0.0950649231672287\n",
      "epoch: 1600, loss:0.09430085867643356\n",
      "epoch: 1700, loss:0.09364932775497437\n",
      "epoch: 1800, loss:0.09305062890052795\n",
      "epoch: 1900, loss:0.09247355908155441\n",
      "epoch: 2000, loss:0.09190134704113007\n",
      "epoch: 2100, loss:0.09132519364356995\n",
      "epoch: 2200, loss:0.09074068069458008\n",
      "epoch: 2300, loss:0.09014592319726944\n",
      "epoch: 2400, loss:0.08954042196273804\n",
      "epoch: 2500, loss:0.08892440795898438\n",
      "epoch: 2600, loss:0.08829837292432785\n",
      "epoch: 2700, loss:0.08766286820173264\n",
      "epoch: 2800, loss:0.08701835572719574\n",
      "epoch: 2900, loss:0.08636518567800522\n",
      "epoch: 3000, loss:0.08570357412099838\n",
      "epoch: 3100, loss:0.08503370732069016\n",
      "epoch: 3200, loss:0.08435557037591934\n",
      "epoch: 3300, loss:0.08366922289133072\n",
      "epoch: 3400, loss:0.0829746201634407\n",
      "epoch: 3500, loss:0.08227171748876572\n",
      "epoch: 3600, loss:0.08156047016382217\n",
      "epoch: 3700, loss:0.08084087818861008\n",
      "epoch: 3800, loss:0.08011291176080704\n",
      "epoch: 3900, loss:0.07937655597925186\n",
      "epoch: 4000, loss:0.07863181084394455\n",
      "epoch: 4100, loss:0.07787874341011047\n",
      "epoch: 4200, loss:0.07711735367774963\n",
      "epoch: 4300, loss:0.0763477087020874\n",
      "epoch: 4400, loss:0.07556981593370438\n",
      "epoch: 4500, loss:0.07478369772434235\n",
      "epoch: 4600, loss:0.07398934662342072\n",
      "epoch: 4700, loss:0.0731867104768753\n",
      "epoch: 4800, loss:0.07237561792135239\n",
      "epoch: 4900, loss:0.07155585289001465\n",
      "epoch: 5000, loss:0.07072708010673523\n",
      "epoch: 5100, loss:0.06988879293203354\n",
      "epoch: 5200, loss:0.06904033571481705\n",
      "epoch: 5300, loss:0.06818085163831711\n",
      "epoch: 5400, loss:0.06730928272008896\n",
      "epoch: 5500, loss:0.06642428040504456\n",
      "epoch: 5600, loss:0.06552428752183914\n",
      "epoch: 5700, loss:0.06460746377706528\n",
      "epoch: 5800, loss:0.06367168575525284\n",
      "epoch: 5900, loss:0.0627145916223526\n",
      "epoch: 6000, loss:0.06173356994986534\n",
      "epoch: 6100, loss:0.06072588637471199\n",
      "epoch: 6200, loss:0.05968867242336273\n",
      "epoch: 6300, loss:0.05861906334757805\n",
      "epoch: 6400, loss:0.057514410465955734\n",
      "epoch: 6500, loss:0.056372277438640594\n",
      "epoch: 6600, loss:0.05519082024693489\n",
      "epoch: 6700, loss:0.05396886169910431\n",
      "epoch: 6800, loss:0.05270617455244064\n",
      "epoch: 6900, loss:0.05140373110771179\n",
      "epoch: 7000, loss:0.05006374791264534\n",
      "epoch: 7100, loss:0.04868997633457184\n",
      "epoch: 7200, loss:0.047287650406360626\n",
      "epoch: 7300, loss:0.04586353152990341\n",
      "epoch: 7400, loss:0.044425733387470245\n",
      "epoch: 7500, loss:0.042983654886484146\n",
      "epoch: 7600, loss:0.041547492146492004\n",
      "epoch: 7700, loss:0.04012806713581085\n",
      "epoch: 7800, loss:0.03873640298843384\n",
      "epoch: 7900, loss:0.03738320991396904\n",
      "epoch: 8000, loss:0.03607863187789917\n",
      "epoch: 8100, loss:0.03483174368739128\n",
      "epoch: 8200, loss:0.03365024924278259\n",
      "epoch: 8300, loss:0.03254033252596855\n",
      "epoch: 8400, loss:0.03150632232427597\n",
      "epoch: 8500, loss:0.030550794675946236\n",
      "epoch: 8600, loss:0.02967439778149128\n",
      "epoch: 8700, loss:0.02887621894478798\n",
      "epoch: 8800, loss:0.02815370447933674\n",
      "epoch: 8900, loss:0.027503112331032753\n",
      "epoch: 9000, loss:0.026919683441519737\n",
      "epoch: 9100, loss:0.02639789693057537\n",
      "epoch: 9200, loss:0.02593180350959301\n",
      "epoch: 9300, loss:0.025515293702483177\n",
      "epoch: 9400, loss:0.02514222078025341\n",
      "epoch: 9500, loss:0.024806668981909752\n",
      "epoch: 9600, loss:0.02450304850935936\n",
      "epoch: 9700, loss:0.024226216599345207\n",
      "epoch: 9800, loss:0.023971490561962128\n",
      "epoch: 9900, loss:0.023734690621495247\n",
      "epoch: 10000, loss:0.023512201383709908\n",
      "epoch: 10100, loss:0.023300834000110626\n",
      "epoch: 10200, loss:0.023097900673747063\n",
      "epoch: 10300, loss:0.02290116250514984\n",
      "epoch: 10400, loss:0.0227087140083313\n",
      "epoch: 10500, loss:0.02251904271543026\n",
      "epoch: 10600, loss:0.02233092486858368\n",
      "epoch: 10700, loss:0.02214335836470127\n",
      "epoch: 10800, loss:0.02195565588772297\n",
      "epoch: 10900, loss:0.02176721766591072\n",
      "epoch: 11000, loss:0.021577702835202217\n",
      "epoch: 11100, loss:0.02138681896030903\n",
      "epoch: 11200, loss:0.021194467321038246\n",
      "epoch: 11300, loss:0.021000582724809647\n",
      "epoch: 11400, loss:0.020805198699235916\n",
      "epoch: 11500, loss:0.020608361810445786\n",
      "epoch: 11600, loss:0.020410209894180298\n",
      "epoch: 11700, loss:0.02021091803908348\n",
      "epoch: 11800, loss:0.02001059055328369\n",
      "epoch: 11900, loss:0.0198094192892313\n",
      "epoch: 12000, loss:0.019607525318861008\n",
      "epoch: 12100, loss:0.019405104219913483\n",
      "epoch: 12200, loss:0.019202254712581635\n",
      "epoch: 12300, loss:0.018999110907316208\n",
      "epoch: 12400, loss:0.018795743584632874\n",
      "epoch: 12500, loss:0.018592318519949913\n",
      "epoch: 12600, loss:0.018388846889138222\n",
      "epoch: 12700, loss:0.018185405060648918\n",
      "epoch: 12800, loss:0.01798209361732006\n",
      "epoch: 12900, loss:0.017779000103473663\n",
      "epoch: 13000, loss:0.01757613755762577\n",
      "epoch: 13100, loss:0.01737353578209877\n",
      "epoch: 13200, loss:0.017171284183859825\n",
      "epoch: 13300, loss:0.01696944236755371\n",
      "epoch: 13400, loss:0.016768021509051323\n",
      "epoch: 13500, loss:0.01656709797680378\n",
      "epoch: 13600, loss:0.01636672019958496\n",
      "epoch: 13700, loss:0.016166923567652702\n",
      "epoch: 13800, loss:0.01596776954829693\n",
      "epoch: 13900, loss:0.01576930284500122\n",
      "epoch: 14000, loss:0.015571553260087967\n",
      "epoch: 14100, loss:0.015374592505395412\n",
      "epoch: 14200, loss:0.015178489498794079\n",
      "epoch: 14300, loss:0.01498324703425169\n",
      "epoch: 14400, loss:0.014788885600864887\n",
      "epoch: 14500, loss:0.014595488086342812\n",
      "epoch: 14600, loss:0.01440306194126606\n",
      "epoch: 14700, loss:0.014211663976311684\n",
      "epoch: 14800, loss:0.014021305367350578\n",
      "epoch: 14900, loss:0.013832039199769497\n",
      "epoch: 15000, loss:0.013643812388181686\n",
      "epoch: 15100, loss:0.013456713408231735\n",
      "epoch: 15200, loss:0.013270744122564793\n",
      "epoch: 15300, loss:0.013085856102406979\n",
      "epoch: 15400, loss:0.01290209498256445\n",
      "epoch: 15500, loss:0.012719426304101944\n",
      "epoch: 15600, loss:0.012537870556116104\n",
      "epoch: 15700, loss:0.012357396073639393\n",
      "epoch: 15800, loss:0.01217799261212349\n",
      "epoch: 15900, loss:0.011999637819826603\n",
      "epoch: 16000, loss:0.011822322383522987\n",
      "epoch: 16100, loss:0.011645996011793613\n",
      "epoch: 16200, loss:0.011470651254057884\n",
      "epoch: 16300, loss:0.011296289972960949\n",
      "epoch: 16400, loss:0.01112285628914833\n",
      "epoch: 16500, loss:0.010950323194265366\n",
      "epoch: 16600, loss:0.010778703726828098\n",
      "epoch: 16700, loss:0.010607978329062462\n",
      "epoch: 16800, loss:0.010438141413033009\n",
      "epoch: 16900, loss:0.010269188322126865\n",
      "epoch: 17000, loss:0.010101116262376308\n",
      "epoch: 17100, loss:0.009933936409652233\n",
      "epoch: 17200, loss:0.009767686016857624\n",
      "epoch: 17300, loss:0.009602361358702183\n",
      "epoch: 17400, loss:0.009438018314540386\n",
      "epoch: 17500, loss:0.009274661540985107\n",
      "epoch: 17600, loss:0.009112375788390636\n",
      "epoch: 17700, loss:0.008951142430305481\n",
      "epoch: 17800, loss:0.008791087195277214\n",
      "epoch: 17900, loss:0.008632216602563858\n",
      "epoch: 18000, loss:0.008474599570035934\n",
      "epoch: 18100, loss:0.008318312466144562\n",
      "epoch: 18200, loss:0.008163374848663807\n",
      "epoch: 18300, loss:0.008009884506464005\n",
      "epoch: 18400, loss:0.007857901975512505\n",
      "epoch: 18500, loss:0.007707488257437944\n",
      "epoch: 18600, loss:0.0075586941093206406\n",
      "epoch: 18700, loss:0.007411598227918148\n",
      "epoch: 18800, loss:0.00726624671369791\n",
      "epoch: 18900, loss:0.007122701033949852\n",
      "epoch: 19000, loss:0.00698101706802845\n",
      "epoch: 19100, loss:0.006841261405497789\n",
      "epoch: 19200, loss:0.006703448016196489\n",
      "epoch: 19300, loss:0.006567631382495165\n",
      "epoch: 19400, loss:0.006433858536183834\n",
      "epoch: 19500, loss:0.0063021681271493435\n",
      "epoch: 19600, loss:0.006172569934278727\n",
      "epoch: 19700, loss:0.006045106332749128\n",
      "epoch: 19800, loss:0.005919804330915213\n",
      "epoch: 19900, loss:0.005796654615551233\n",
      "epoch: 20000, loss:0.005675694905221462\n",
      "epoch: 20100, loss:0.005556937772780657\n",
      "epoch: 20200, loss:0.005440365988761187\n",
      "epoch: 20300, loss:0.0053259884007275105\n",
      "epoch: 20400, loss:0.005213824566453695\n",
      "epoch: 20500, loss:0.00510383490473032\n",
      "epoch: 20600, loss:0.004996036179363728\n",
      "epoch: 20700, loss:0.004890420474112034\n",
      "epoch: 20800, loss:0.004786955192685127\n",
      "epoch: 20900, loss:0.004685630090534687\n",
      "epoch: 21000, loss:0.004586402792483568\n",
      "epoch: 21100, loss:0.004489305429160595\n",
      "epoch: 21200, loss:0.004394264426082373\n",
      "epoch: 21300, loss:0.004301285371184349\n",
      "epoch: 21400, loss:0.004210347309708595\n",
      "epoch: 21500, loss:0.004121381789445877\n",
      "epoch: 21600, loss:0.004034402780234814\n",
      "epoch: 21700, loss:0.003949361853301525\n",
      "epoch: 21800, loss:0.0038662292063236237\n",
      "epoch: 21900, loss:0.0037849685177206993\n",
      "epoch: 22000, loss:0.0037055592983961105\n",
      "epoch: 22100, loss:0.003627970116212964\n",
      "epoch: 22200, loss:0.003552153008058667\n",
      "epoch: 22300, loss:0.0034780811984091997\n",
      "epoch: 22400, loss:0.0034057300072163343\n",
      "epoch: 22500, loss:0.003335057757794857\n",
      "epoch: 22600, loss:0.0032660318538546562\n",
      "epoch: 22700, loss:0.0031986250542104244\n",
      "epoch: 22800, loss:0.003132794750854373\n",
      "epoch: 22900, loss:0.0030685130041092634\n",
      "epoch: 23000, loss:0.003005741396918893\n",
      "epoch: 23100, loss:0.0029444540850818157\n",
      "epoch: 23200, loss:0.0028846191707998514\n",
      "epoch: 23300, loss:0.0028262038249522448\n",
      "epoch: 23400, loss:0.0027691589202731848\n",
      "epoch: 23500, loss:0.002713490277528763\n",
      "epoch: 23600, loss:0.002659131307154894\n",
      "epoch: 23700, loss:0.002606067107990384\n",
      "epoch: 23800, loss:0.002554269041866064\n",
      "epoch: 23900, loss:0.0025037056766450405\n",
      "epoch: 24000, loss:0.0024543434847146273\n",
      "epoch: 24100, loss:0.002406158484518528\n",
      "epoch: 24200, loss:0.002359124133363366\n",
      "epoch: 24300, loss:0.0023131987545639277\n",
      "epoch: 24400, loss:0.0022683744318783283\n",
      "epoch: 24500, loss:0.002224619034677744\n",
      "epoch: 24600, loss:0.002181902527809143\n",
      "epoch: 24700, loss:0.002140202559530735\n",
      "epoch: 24800, loss:0.0020994963124394417\n",
      "epoch: 24900, loss:0.00205975491553545\n",
      "epoch: 25000, loss:0.002020955551415682\n",
      "epoch: 25100, loss:0.0019830677192658186\n",
      "epoch: 25200, loss:0.0019460839685052633\n",
      "epoch: 25300, loss:0.0019099789205938578\n",
      "epoch: 25400, loss:0.0018747252179309726\n",
      "epoch: 25500, loss:0.0018402888672426343\n",
      "epoch: 25600, loss:0.0018066730117425323\n",
      "epoch: 25700, loss:0.0017738539027050138\n",
      "epoch: 25800, loss:0.0017417971976101398\n",
      "epoch: 25900, loss:0.0017104800790548325\n",
      "epoch: 26000, loss:0.001679905573837459\n",
      "epoch: 26100, loss:0.0016500505153089762\n",
      "epoch: 26200, loss:0.0016208748565986753\n",
      "epoch: 26300, loss:0.0015923796454444528\n",
      "epoch: 26400, loss:0.0015645569656044245\n",
      "epoch: 26500, loss:0.001537363394163549\n",
      "epoch: 26600, loss:0.001510806381702423\n",
      "epoch: 26700, loss:0.0014848497230559587\n",
      "epoch: 26800, loss:0.0014594986569136381\n",
      "epoch: 26900, loss:0.001434711623005569\n",
      "epoch: 27000, loss:0.001410507713444531\n",
      "epoch: 27100, loss:0.0013868522364646196\n",
      "epoch: 27200, loss:0.001363720977678895\n",
      "epoch: 27300, loss:0.0013411232503131032\n",
      "epoch: 27400, loss:0.0013190297177061439\n",
      "epoch: 27500, loss:0.0012974360724911094\n",
      "epoch: 27600, loss:0.001276317983865738\n",
      "epoch: 27700, loss:0.001255682436749339\n",
      "epoch: 27800, loss:0.0012354940408840775\n",
      "epoch: 27900, loss:0.001215767115354538\n",
      "epoch: 28000, loss:0.001196470344439149\n",
      "epoch: 28100, loss:0.0011775866150856018\n",
      "epoch: 28200, loss:0.0011591322254389524\n",
      "epoch: 28300, loss:0.0011410709703341126\n",
      "epoch: 28400, loss:0.0011234082048758864\n",
      "epoch: 28500, loss:0.0011061299592256546\n",
      "epoch: 28600, loss:0.0010892210993915796\n",
      "epoch: 28700, loss:0.0010726818582043052\n",
      "epoch: 28800, loss:0.0010564933763816953\n",
      "epoch: 28900, loss:0.0010406477376818657\n",
      "epoch: 29000, loss:0.0010251422645524144\n",
      "epoch: 29100, loss:0.0010099600767716765\n",
      "epoch: 29200, loss:0.0009951012907549739\n",
      "epoch: 29300, loss:0.0009805521694943309\n",
      "epoch: 29400, loss:0.000966316438280046\n",
      "epoch: 29500, loss:0.0009523580083623528\n",
      "epoch: 29600, loss:0.0009387062746100128\n",
      "epoch: 29700, loss:0.0009253264870494604\n",
      "epoch: 29800, loss:0.0009122224873863161\n",
      "epoch: 29900, loss:0.0008993830997496843\n"
     ]
    }
   ],
   "source": [
    "loss_history = []\n",
    "\n",
    "for epoch in range(n_epochs):\n",
    "    \n",
    "    loss_epoch, (weight_grad_epoch, bias_grad_epoch) = loss_and_grad_fun(weight_matrices, bias_vectors)\n",
    "\n",
    "    weight_matrices = jax.tree.map(\n",
    "        lambda W, W_grad: W - learning_rate * W_grad,\n",
    "        weight_matrices,\n",
    "        weight_grad_epoch\n",
    "    )\n",
    "\n",
    "    bias_matrices = jax.tree.map(\n",
    "        lambda b, b_grad: b - learning_rate * b_grad,\n",
    "        bias_vectors,\n",
    "        bias_grad_epoch\n",
    "    )\n",
    "\n",
    "    if epoch % 100 == 0:  \n",
    "        print(f\"epoch: {epoch}, loss:{loss_epoch}\")\n",
    "\n",
    "    loss_history.append(loss_epoch)"
   ]
  },
  {
   "cell_type": "markdown",
   "id": "d5004e11-336e-4a62-b5ba-31d627e95b78",
   "metadata": {},
   "source": [
    "## Plot loss history (log scale)"
   ]
  },
  {
   "cell_type": "code",
   "execution_count": 28,
   "id": "a1e2499e-39ad-4f88-a612-37d20a387797",
   "metadata": {},
   "outputs": [
    {
     "data": {
      "text/plain": [
       "Text(0.5, 1.0, 'Loss history on log scale')"
      ]
     },
     "execution_count": 28,
     "metadata": {},
     "output_type": "execute_result"
    },
    {
     "data": {
      "image/png": "[encoded data removed]",
      "text/plain": [
       "<Figure size 640x480 with 1 Axes>"
      ]
     },
     "metadata": {},
     "output_type": "display_data"
    }
   ],
   "source": [
    "plt.figure()\n",
    "plt.plot(loss_history)\n",
    "plt.yscale(\"log\")\n",
    "plt.xlabel('epoch')\n",
    "plt.ylabel('loss')\n",
    "plt.title('Loss history on log scale')"
   ]
  },
  {
   "cell_type": "markdown",
   "id": "93affa2f-8984-42e9-b1d5-77ae26e57c81",
   "metadata": {},
   "source": [
    "## Generate final predictions"
   ]
  },
  {
   "cell_type": "code",
   "execution_count": 29,
   "id": "de7e78ab-d636-4424-b703-89aafccb6355",
   "metadata": {},
   "outputs": [],
   "source": [
    "final_pred = forward_pass(x_samples, weight_matrices, bias_vectors, activation_functions)"
   ]
  },
  {
   "cell_type": "markdown",
   "id": "16d10aef-1e91-4e07-a749-e06f14adf611",
   "metadata": {},
   "source": [
    "## Plot final prediction and data"
   ]
  },
  {
   "cell_type": "code",
   "execution_count": 30,
   "id": "a437af14-da0e-4975-bde3-a3e463382985",
   "metadata": {},
   "outputs": [
    {
     "data": {
      "text/plain": [
       "Text(0.5, 1.0, 'Sine wave regression in JAX')"
      ]
     },
     "execution_count": 30,
     "metadata": {},
     "output_type": "execute_result"
    },
    {
     "data": {
      "image/png": "[encoded data removed]",
      "text/plain": [
       "<Figure size 640x480 with 1 Axes>"
      ]
     },
     "metadata": {},
     "output_type": "display_data"
    }
   ],
   "source": [
    "plt.figure()\n",
    "plt.scatter(x_samples, y_samples, label=\"Sample data\")\n",
    "plt.plot(x_samples, final_pred, 'r', label=\"Final prediction\")\n",
    "plt.legend()\n",
    "plt.xlabel('x')\n",
    "plt.ylabel('y')\n",
    "plt.title('Sine wave regression in JAX')"
   ]
  }
 ],
 "metadata": {
  "kernelspec": {
   "display_name": "Python 3 (ipykernel)",
   "language": "python",
   "name": "python3"
  },
  "language_info": {
   "codemirror_mode": {
    "name": "ipython",
    "version": 3
   },
   "file_extension": ".py",
   "mimetype": "text/x-python",
   "name": "python",
   "nbconvert_exporter": "python",
   "pygments_lexer": "ipython3",
   "version": "3.11.7"
  }
 },
 "nbformat": 4,
 "nbformat_minor": 5
}
